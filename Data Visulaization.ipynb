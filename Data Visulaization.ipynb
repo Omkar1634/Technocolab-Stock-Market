{
 "cells": [
  {
   "cell_type": "markdown",
   "id": "aa97432b",
   "metadata": {},
   "source": [
    "Importing Library "
   ]
  },
  {
   "cell_type": "code",
   "execution_count": null,
   "id": "3ec38e3b",
   "metadata": {},
   "outputs": [],
   "source": [
    "import pandas as pd\n",
    "import chart_studio.plotly as py\n",
    "import cufflinks as cf\n",
    "import seaborn as sns\n",
    "import plotly.express as px\n",
    "%matplotlib inline\n",
    "\n",
    "# Make Plotly work in your Jupyter Notebook\n",
    "from plotly.offline import download_plotlyjs, init_notebook_mode, plot, iplot\n",
    "init_notebook_mode(connected=True)\n",
    "# Use Plotly locally\n",
    "cf.go_offline()"
   ]
  },
  {
   "cell_type": "code",
   "execution_count": null,
   "id": "31906232",
   "metadata": {},
   "outputs": [],
   "source": [
    "df = pd.read_csv(\"BIO-TECH_STOCK_DATA.CSV\")"
   ]
  },
  {
   "cell_type": "code",
   "execution_count": null,
   "id": "39c5d955",
   "metadata": {},
   "outputs": [],
   "source": [
    "df"
   ]
  },
  {
   "cell_type": "code",
   "execution_count": null,
   "id": "ab52b484",
   "metadata": {},
   "outputs": [],
   "source": [
    "df.drop([\"Adj Close\",\"Unnamed: 0\"], axis = 1, inplace = True)# Delete a unnecessary column"
   ]
  },
  {
   "cell_type": "code",
   "execution_count": null,
   "id": "50a7e086",
   "metadata": {},
   "outputs": [],
   "source": [
    "df"
   ]
  },
  {
   "cell_type": "code",
   "execution_count": null,
   "id": "c9165242",
   "metadata": {},
   "outputs": [],
   "source": [
    "df.info()"
   ]
  },
  {
   "cell_type": "code",
   "execution_count": null,
   "id": "2fbaf6b1",
   "metadata": {},
   "outputs": [],
   "source": [
    "df.describe()"
   ]
  },
  {
   "cell_type": "code",
   "execution_count": null,
   "id": "d5c48d38",
   "metadata": {},
   "outputs": [],
   "source": [
    "df.corr()"
   ]
  },
  {
   "cell_type": "code",
   "execution_count": null,
   "id": "ab53dbfc",
   "metadata": {},
   "outputs": [],
   "source": [
    "df.isnull().sum()"
   ]
  },
  {
   "cell_type": "code",
   "execution_count": null,
   "id": "44c3ca25",
   "metadata": {},
   "outputs": [],
   "source": [
    "Open = df[\"Open\"].mean()\n",
    "High = df[\"High\"].mean()\n",
    "Low = df[\"Low\"].mean()\n",
    "Close = df[\"Close\"].mean()\n",
    "Volume = df[\"Volume\"].mean()\n",
    "print(\"Open Mean:\",Open)\n",
    "print(\"High Mean:\",High)\n",
    "print(\"Low Mean:\",Low)\n",
    "print(\"Close Mean:\",Close)\n",
    "print(\"Volume Mean:\",Volume)\n"
   ]
  },
  {
   "cell_type": "code",
   "execution_count": null,
   "id": "c0514209",
   "metadata": {},
   "outputs": [],
   "source": [
    "df[\"Open\"].fillna(Open,inplace = True)\n",
    "df[\"High\"].fillna(High,inplace = True)\n",
    "df[\"Low\"].fillna(Low,inplace = True)\n",
    "df[\"Close\"].fillna(Close,inplace = True)\n",
    "df[\"Volume\"].fillna(Volume,inplace = True)"
   ]
  },
  {
   "cell_type": "code",
   "execution_count": null,
   "id": "b1a5e5ac",
   "metadata": {},
   "outputs": [],
   "source": [
    "df.isnull().sum()"
   ]
  },
  {
   "cell_type": "code",
   "execution_count": null,
   "id": "4f0766e3",
   "metadata": {},
   "outputs": [],
   "source": [
    "df"
   ]
  },
  {
   "cell_type": "code",
   "execution_count": null,
   "id": "c74a1aad",
   "metadata": {},
   "outputs": [],
   "source": [
    "df['Date'] = pd.to_datetime(df['Date'])"
   ]
  },
  {
   "cell_type": "code",
   "execution_count": null,
   "id": "83f483d8",
   "metadata": {},
   "outputs": [],
   "source": [
    "df['Quarter'] = df['Date'].dt.to_period('Q')"
   ]
  },
  {
   "cell_type": "code",
   "execution_count": null,
   "id": "99ba3a99",
   "metadata": {},
   "outputs": [],
   "source": [
    "df[\"Quarter\"]"
   ]
  },
  {
   "cell_type": "code",
   "execution_count": null,
   "id": "7fdae791",
   "metadata": {},
   "outputs": [],
   "source": [
    "df[\"Date\"]"
   ]
  },
  {
   "cell_type": "code",
   "execution_count": null,
   "id": "29f6dc0a",
   "metadata": {},
   "outputs": [],
   "source": [
    "df"
   ]
  },
  {
   "cell_type": "code",
   "execution_count": null,
   "id": "32ae1556",
   "metadata": {},
   "outputs": [],
   "source": [
    "px.bar(df,x=\"Date\",y=\"Open\")"
   ]
  },
  {
   "cell_type": "code",
   "execution_count": null,
   "id": "71b53f43",
   "metadata": {},
   "outputs": [],
   "source": [
    "px.bar(df,x=\"Date\",y=\"Close\")"
   ]
  },
  {
   "cell_type": "code",
   "execution_count": null,
   "id": "6b225fda",
   "metadata": {},
   "outputs": [],
   "source": [
    "px.scatter(df, x=\"Date\", y=\"Volume\",animation_frame=\"ticker\")"
   ]
  },
  {
   "cell_type": "code",
   "execution_count": null,
   "id": "c22f9161",
   "metadata": {},
   "outputs": [],
   "source": [
    "px.scatter(df, x=[\"High\",\"Low\"], y=\"Volume\",animation_frame=\"ticker\")"
   ]
  },
  {
   "cell_type": "code",
   "execution_count": null,
   "id": "27a9082b",
   "metadata": {},
   "outputs": [],
   "source": [
    "px.scatter(df, x=[\"Open\",\"Close\"], y=\"Volume\",animation_frame=\"ticker\")"
   ]
  }
 ],
 "metadata": {
  "kernelspec": {
   "display_name": "Python 3",
   "language": "python",
   "name": "python3"
  },
  "language_info": {
   "codemirror_mode": {
    "name": "ipython",
    "version": 3
   },
   "file_extension": ".py",
   "mimetype": "text/x-python",
   "name": "python",
   "nbconvert_exporter": "python",
   "pygments_lexer": "ipython3",
   "version": "3.8.8"
  }
 },
 "nbformat": 4,
 "nbformat_minor": 5
}
